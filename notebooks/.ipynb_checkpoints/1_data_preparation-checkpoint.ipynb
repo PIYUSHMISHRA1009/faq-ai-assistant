{
 "cells": [
  {
   "cell_type": "code",
   "execution_count": null,
   "id": "9b6a0a6f",
   "metadata": {
    "vscode": {
     "languageId": "plaintext"
    }
   },
   "outputs": [],
   "source": [
    "import pandas as pd\n",
    "import json\n",
    "from transformers import AutoTokenizer\n",
    "\n",
    "# Load JSON dataset\n",
    "with open('../data/faq_dataset.json') as f:\n",
    "    data = json.load(f)\n",
    "\n",
    "df = pd.DataFrame(data)\n",
    "df.head()"
   ]
  },
  {
   "cell_type": "code",
   "execution_count": null,
   "id": "bce3db42",
   "metadata": {
    "vscode": {
     "languageId": "plaintext"
    }
   },
   "outputs": [],
   "source": []
  }
 ],
 "metadata": {
  "language_info": {
   "name": "python"
  }
 },
 "nbformat": 4,
 "nbformat_minor": 5
}
